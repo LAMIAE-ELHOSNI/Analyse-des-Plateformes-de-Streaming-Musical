{
 "cells": [
  {
   "cell_type": "code",
   "execution_count": 1,
   "metadata": {},
   "outputs": [
    {
     "name": "stdout",
     "output_type": "stream",
     "text": [
      "Concatenated data written to C:\\Users\\Youcode\\Desktop\\Analyse_Des_Plateformes_De_Streaming_Musical\\Data_Ingestion\\DATA\\artists.json\n"
     ]
    }
   ],
   "source": [
    "import json\n",
    "import os\n",
    "\n",
    "# Specify the path to the directory containing JSON files\n",
    "directory_path = r'C:\\Users\\Youcode\\Desktop\\Analyse_Des_Plateformes_De_Streaming_Musical\\Data_Ingestion\\DATA\\artiste'\n",
    "\n",
    "# Specify the path for the output concatenated JSON file\n",
    "output_file_path = r'C:\\Users\\Youcode\\Desktop\\Analyse_Des_Plateformes_De_Streaming_Musical\\Data_Ingestion\\DATA\\artists.json'\n",
    "\n",
    "# Initialize an empty list to store data from individual JSON files\n",
    "all_data = []\n",
    "\n",
    "# Iterate through each file in the directory\n",
    "for filename in os.listdir(directory_path):\n",
    "    if filename.endswith('.json'):\n",
    "        file_path = os.path.join(directory_path, filename)\n",
    "        \n",
    "        # Read data from each JSON file\n",
    "        with open(file_path, 'r', encoding='utf-8') as file:\n",
    "            data = json.load(file)\n",
    "            all_data.append(data)\n",
    "\n",
    "# Write the concatenated data to a single JSON file\n",
    "with open(output_file_path, 'w', encoding='utf-8') as output_file:\n",
    "    json.dump(all_data, output_file, ensure_ascii=False, indent=2)\n",
    "\n",
    "print(f\"Concatenated data written to {output_file_path}\")\n"
   ]
  },
  {
   "cell_type": "code",
   "execution_count": 3,
   "metadata": {},
   "outputs": [
    {
     "name": "stdout",
     "output_type": "stream",
     "text": [
      "Conversion complete. JSON file 'C:\\Users\\Youcode\\Desktop\\Analyse_Des_Plateformes_De_Streaming_Musical\\Data_Ingestion\\DATA\\users.json' created.\n"
     ]
    }
   ],
   "source": [
    "import csv\n",
    "import json\n",
    "\n",
    "# Function to read CSV and convert to JSON\n",
    "def csv_to_json(csv_file, json_file):\n",
    "    data = []\n",
    "\n",
    "    # Read CSV file\n",
    "    with open(csv_file, 'r') as csv_data:\n",
    "        csv_reader = csv.DictReader(csv_data)\n",
    "        for row in csv_reader:\n",
    "            data.append(row)\n",
    "\n",
    "    # Write JSON file\n",
    "    with open(json_file, 'w') as json_data:\n",
    "        json.dump(data, json_data, indent=2)\n",
    "\n",
    "# Replace 'data.csv' with your actual CSV file name\n",
    "csv_file_name = r'C:\\Users\\Youcode\\Desktop\\Analyse_Des_Plateformes_De_Streaming_Musical\\Data_Ingestion\\DATA\\100000_user.csv'\n",
    "\n",
    "# Replace 'output.json' with your desired JSON file name\n",
    "json_file_name = r'C:\\Users\\Youcode\\Desktop\\Analyse_Des_Plateformes_De_Streaming_Musical\\Data_Ingestion\\DATA\\users.json'\n",
    "\n",
    "# Convert CSV to JSON\n",
    "csv_to_json(csv_file_name, json_file_name)\n",
    "\n",
    "print(f\"Conversion complete. JSON file '{json_file_name}' created.\")\n"
   ]
  }
 ],
 "metadata": {
  "kernelspec": {
   "display_name": "Python 3",
   "language": "python",
   "name": "python3"
  },
  "language_info": {
   "codemirror_mode": {
    "name": "ipython",
    "version": 3
   },
   "file_extension": ".py",
   "mimetype": "text/x-python",
   "name": "python",
   "nbconvert_exporter": "python",
   "pygments_lexer": "ipython3",
   "version": "3.11.3"
  }
 },
 "nbformat": 4,
 "nbformat_minor": 2
}
